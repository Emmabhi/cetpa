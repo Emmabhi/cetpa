{
 "cells": [
  {
   "cell_type": "code",
   "execution_count": 1,
   "id": "0944a58d",
   "metadata": {},
   "outputs": [],
   "source": [
    "import numpy as np\n",
    "import pandas as pd"
   ]
  },
  {
   "cell_type": "code",
   "execution_count": 2,
   "id": "4555ecb7",
   "metadata": {},
   "outputs": [],
   "source": [
    "df = pd.read_csv('Dataset.csv')"
   ]
  },
  {
   "cell_type": "code",
   "execution_count": 3,
   "id": "e2bc84fb",
   "metadata": {},
   "outputs": [
    {
     "name": "stdout",
     "output_type": "stream",
     "text": [
      "(1460, 3)\n"
     ]
    }
   ],
   "source": [
    "print(df.shape)"
   ]
  },
  {
   "cell_type": "code",
   "execution_count": 4,
   "id": "b06f550d",
   "metadata": {},
   "outputs": [
    {
     "data": {
      "text/html": [
       "<div>\n",
       "<style scoped>\n",
       "    .dataframe tbody tr th:only-of-type {\n",
       "        vertical-align: middle;\n",
       "    }\n",
       "\n",
       "    .dataframe tbody tr th {\n",
       "        vertical-align: top;\n",
       "    }\n",
       "\n",
       "    .dataframe thead th {\n",
       "        text-align: right;\n",
       "    }\n",
       "</style>\n",
       "<table border=\"1\" class=\"dataframe\">\n",
       "  <thead>\n",
       "    <tr style=\"text-align: right;\">\n",
       "      <th></th>\n",
       "      <th>Id</th>\n",
       "      <th>LotArea</th>\n",
       "      <th>SalePrice</th>\n",
       "    </tr>\n",
       "  </thead>\n",
       "  <tbody>\n",
       "    <tr>\n",
       "      <th>count</th>\n",
       "      <td>1460.000000</td>\n",
       "      <td>1460.000000</td>\n",
       "      <td>1460.000000</td>\n",
       "    </tr>\n",
       "    <tr>\n",
       "      <th>mean</th>\n",
       "      <td>730.500000</td>\n",
       "      <td>10516.828082</td>\n",
       "      <td>180921.195890</td>\n",
       "    </tr>\n",
       "    <tr>\n",
       "      <th>std</th>\n",
       "      <td>421.610009</td>\n",
       "      <td>9981.264932</td>\n",
       "      <td>79442.502883</td>\n",
       "    </tr>\n",
       "    <tr>\n",
       "      <th>min</th>\n",
       "      <td>1.000000</td>\n",
       "      <td>1300.000000</td>\n",
       "      <td>34900.000000</td>\n",
       "    </tr>\n",
       "    <tr>\n",
       "      <th>25%</th>\n",
       "      <td>365.750000</td>\n",
       "      <td>7553.500000</td>\n",
       "      <td>129975.000000</td>\n",
       "    </tr>\n",
       "    <tr>\n",
       "      <th>50%</th>\n",
       "      <td>730.500000</td>\n",
       "      <td>9478.500000</td>\n",
       "      <td>163000.000000</td>\n",
       "    </tr>\n",
       "    <tr>\n",
       "      <th>75%</th>\n",
       "      <td>1095.250000</td>\n",
       "      <td>11601.500000</td>\n",
       "      <td>214000.000000</td>\n",
       "    </tr>\n",
       "    <tr>\n",
       "      <th>max</th>\n",
       "      <td>1460.000000</td>\n",
       "      <td>215245.000000</td>\n",
       "      <td>755000.000000</td>\n",
       "    </tr>\n",
       "  </tbody>\n",
       "</table>\n",
       "</div>"
      ],
      "text/plain": [
       "                Id        LotArea      SalePrice\n",
       "count  1460.000000    1460.000000    1460.000000\n",
       "mean    730.500000   10516.828082  180921.195890\n",
       "std     421.610009    9981.264932   79442.502883\n",
       "min       1.000000    1300.000000   34900.000000\n",
       "25%     365.750000    7553.500000  129975.000000\n",
       "50%     730.500000    9478.500000  163000.000000\n",
       "75%    1095.250000   11601.500000  214000.000000\n",
       "max    1460.000000  215245.000000  755000.000000"
      ]
     },
     "execution_count": 4,
     "metadata": {},
     "output_type": "execute_result"
    }
   ],
   "source": [
    "df.describe()"
   ]
  },
  {
   "cell_type": "code",
   "execution_count": 5,
   "id": "e72f5fc4",
   "metadata": {},
   "outputs": [
    {
     "data": {
      "text/html": [
       "<div>\n",
       "<style scoped>\n",
       "    .dataframe tbody tr th:only-of-type {\n",
       "        vertical-align: middle;\n",
       "    }\n",
       "\n",
       "    .dataframe tbody tr th {\n",
       "        vertical-align: top;\n",
       "    }\n",
       "\n",
       "    .dataframe thead th {\n",
       "        text-align: right;\n",
       "    }\n",
       "</style>\n",
       "<table border=\"1\" class=\"dataframe\">\n",
       "  <thead>\n",
       "    <tr style=\"text-align: right;\">\n",
       "      <th></th>\n",
       "      <th>Id</th>\n",
       "      <th>LotArea</th>\n",
       "      <th>SalePrice</th>\n",
       "    </tr>\n",
       "  </thead>\n",
       "  <tbody>\n",
       "    <tr>\n",
       "      <th>0</th>\n",
       "      <td>1</td>\n",
       "      <td>8450</td>\n",
       "      <td>208500</td>\n",
       "    </tr>\n",
       "    <tr>\n",
       "      <th>1</th>\n",
       "      <td>2</td>\n",
       "      <td>9600</td>\n",
       "      <td>181500</td>\n",
       "    </tr>\n",
       "    <tr>\n",
       "      <th>2</th>\n",
       "      <td>3</td>\n",
       "      <td>11250</td>\n",
       "      <td>223500</td>\n",
       "    </tr>\n",
       "    <tr>\n",
       "      <th>3</th>\n",
       "      <td>4</td>\n",
       "      <td>9550</td>\n",
       "      <td>140000</td>\n",
       "    </tr>\n",
       "    <tr>\n",
       "      <th>4</th>\n",
       "      <td>5</td>\n",
       "      <td>14260</td>\n",
       "      <td>250000</td>\n",
       "    </tr>\n",
       "  </tbody>\n",
       "</table>\n",
       "</div>"
      ],
      "text/plain": [
       "   Id  LotArea  SalePrice\n",
       "0   1     8450     208500\n",
       "1   2     9600     181500\n",
       "2   3    11250     223500\n",
       "3   4     9550     140000\n",
       "4   5    14260     250000"
      ]
     },
     "execution_count": 5,
     "metadata": {},
     "output_type": "execute_result"
    }
   ],
   "source": [
    "df.head()"
   ]
  },
  {
   "cell_type": "markdown",
   "id": "9bea9698",
   "metadata": {},
   "source": [
    "# simple random sampling"
   ]
  },
  {
   "cell_type": "code",
   "execution_count": 7,
   "id": "03377fa1",
   "metadata": {},
   "outputs": [
    {
     "name": "stdout",
     "output_type": "stream",
     "text": [
      "        Id  LotArea  SalePrice\n",
      "115    116     3230     176000\n",
      "175    176    12615     243000\n",
      "215    216    10011     134450\n",
      "376    377     8846     148000\n",
      "728    729    11475     110000\n",
      "1043  1044    11839     262280\n",
      "1270  1271    23595     260000\n",
      "1335  1336     9650     167900\n",
      "1359  1360    16737     315000\n",
      "1429  1430    12546     182900\n"
     ]
    }
   ],
   "source": [
    "sample = df.sample(n=10).sort_values(by = 'Id')\n",
    "print(sample)"
   ]
  },
  {
   "cell_type": "code",
   "execution_count": 8,
   "id": "e5e23151",
   "metadata": {},
   "outputs": [],
   "source": [
    "mean_sample = df['SalePrice'].mean()"
   ]
  },
  {
   "cell_type": "code",
   "execution_count": 9,
   "id": "ee601cdb",
   "metadata": {},
   "outputs": [
    {
     "name": "stdout",
     "output_type": "stream",
     "text": [
      "180921.19589041095\n"
     ]
    }
   ],
   "source": [
    "print(mean_sample)"
   ]
  },
  {
   "cell_type": "code",
   "execution_count": 10,
   "id": "e964435d",
   "metadata": {},
   "outputs": [
    {
     "name": "stdout",
     "output_type": "stream",
     "text": [
      "180921.196\n"
     ]
    }
   ],
   "source": [
    "print(round(mean_sample,3))"
   ]
  },
  {
   "cell_type": "markdown",
   "id": "888f4621",
   "metadata": {},
   "source": [
    "# systematic sampling"
   ]
  },
  {
   "cell_type": "code",
   "execution_count": 11,
   "id": "35473664",
   "metadata": {},
   "outputs": [],
   "source": [
    "index = np.arange(0, len(df), step=5)"
   ]
  },
  {
   "cell_type": "code",
   "execution_count": 12,
   "id": "ea019cdd",
   "metadata": {},
   "outputs": [
    {
     "data": {
      "text/plain": [
       "array([   0,    5,   10,   15,   20,   25,   30,   35,   40,   45,   50,\n",
       "         55,   60,   65,   70,   75,   80,   85,   90,   95,  100,  105,\n",
       "        110,  115,  120,  125,  130,  135,  140,  145,  150,  155,  160,\n",
       "        165,  170,  175,  180,  185,  190,  195,  200,  205,  210,  215,\n",
       "        220,  225,  230,  235,  240,  245,  250,  255,  260,  265,  270,\n",
       "        275,  280,  285,  290,  295,  300,  305,  310,  315,  320,  325,\n",
       "        330,  335,  340,  345,  350,  355,  360,  365,  370,  375,  380,\n",
       "        385,  390,  395,  400,  405,  410,  415,  420,  425,  430,  435,\n",
       "        440,  445,  450,  455,  460,  465,  470,  475,  480,  485,  490,\n",
       "        495,  500,  505,  510,  515,  520,  525,  530,  535,  540,  545,\n",
       "        550,  555,  560,  565,  570,  575,  580,  585,  590,  595,  600,\n",
       "        605,  610,  615,  620,  625,  630,  635,  640,  645,  650,  655,\n",
       "        660,  665,  670,  675,  680,  685,  690,  695,  700,  705,  710,\n",
       "        715,  720,  725,  730,  735,  740,  745,  750,  755,  760,  765,\n",
       "        770,  775,  780,  785,  790,  795,  800,  805,  810,  815,  820,\n",
       "        825,  830,  835,  840,  845,  850,  855,  860,  865,  870,  875,\n",
       "        880,  885,  890,  895,  900,  905,  910,  915,  920,  925,  930,\n",
       "        935,  940,  945,  950,  955,  960,  965,  970,  975,  980,  985,\n",
       "        990,  995, 1000, 1005, 1010, 1015, 1020, 1025, 1030, 1035, 1040,\n",
       "       1045, 1050, 1055, 1060, 1065, 1070, 1075, 1080, 1085, 1090, 1095,\n",
       "       1100, 1105, 1110, 1115, 1120, 1125, 1130, 1135, 1140, 1145, 1150,\n",
       "       1155, 1160, 1165, 1170, 1175, 1180, 1185, 1190, 1195, 1200, 1205,\n",
       "       1210, 1215, 1220, 1225, 1230, 1235, 1240, 1245, 1250, 1255, 1260,\n",
       "       1265, 1270, 1275, 1280, 1285, 1290, 1295, 1300, 1305, 1310, 1315,\n",
       "       1320, 1325, 1330, 1335, 1340, 1345, 1350, 1355, 1360, 1365, 1370,\n",
       "       1375, 1380, 1385, 1390, 1395, 1400, 1405, 1410, 1415, 1420, 1425,\n",
       "       1430, 1435, 1440, 1445, 1450, 1455])"
      ]
     },
     "execution_count": 12,
     "metadata": {},
     "output_type": "execute_result"
    }
   ],
   "source": [
    "index"
   ]
  },
  {
   "cell_type": "code",
   "execution_count": 13,
   "id": "12f33962",
   "metadata": {},
   "outputs": [
    {
     "name": "stdout",
     "output_type": "stream",
     "text": [
      "    Id  LotArea  SalePrice\n",
      "0    1     8450     208500\n",
      "5    6    14115     143000\n",
      "10  11    11200     129500\n",
      "15  16     6120     132000\n",
      "20  21    14215     325300\n"
     ]
    }
   ],
   "source": [
    "systematic_sample = df.iloc[index]\n",
    "print(systematic_sample.head())"
   ]
  },
  {
   "cell_type": "code",
   "execution_count": 14,
   "id": "dd5291e9",
   "metadata": {},
   "outputs": [
    {
     "name": "stdout",
     "output_type": "stream",
     "text": [
      "178146.13\n"
     ]
    }
   ],
   "source": [
    "print(round(systematic_sample['SalePrice'].mean(),3))"
   ]
  },
  {
   "cell_type": "markdown",
   "id": "1df7bda4",
   "metadata": {},
   "source": [
    "# cluster sampling"
   ]
  },
  {
   "cell_type": "code",
   "execution_count": 15,
   "id": "4a6256eb",
   "metadata": {},
   "outputs": [],
   "source": [
    "# number of clusters\n",
    "n = 5"
   ]
  },
  {
   "cell_type": "markdown",
   "id": "05f8f7c0",
   "metadata": {},
   "source": [
    "np.repeat(array,repeat period)"
   ]
  },
  {
   "cell_type": "code",
   "execution_count": 16,
   "id": "52f992b2",
   "metadata": {},
   "outputs": [],
   "source": [
    "df['cluster_id'] = np.repeat([range(1,n+1)], len(df)/n)"
   ]
  },
  {
   "cell_type": "code",
   "execution_count": 20,
   "id": "86b04d27",
   "metadata": {},
   "outputs": [
    {
     "data": {
      "text/html": [
       "<div>\n",
       "<style scoped>\n",
       "    .dataframe tbody tr th:only-of-type {\n",
       "        vertical-align: middle;\n",
       "    }\n",
       "\n",
       "    .dataframe tbody tr th {\n",
       "        vertical-align: top;\n",
       "    }\n",
       "\n",
       "    .dataframe thead th {\n",
       "        text-align: right;\n",
       "    }\n",
       "</style>\n",
       "<table border=\"1\" class=\"dataframe\">\n",
       "  <thead>\n",
       "    <tr style=\"text-align: right;\">\n",
       "      <th></th>\n",
       "      <th>Id</th>\n",
       "      <th>LotArea</th>\n",
       "      <th>SalePrice</th>\n",
       "      <th>cluster_id</th>\n",
       "    </tr>\n",
       "  </thead>\n",
       "  <tbody>\n",
       "    <tr>\n",
       "      <th>0</th>\n",
       "      <td>1</td>\n",
       "      <td>8450</td>\n",
       "      <td>208500</td>\n",
       "      <td>1</td>\n",
       "    </tr>\n",
       "    <tr>\n",
       "      <th>1</th>\n",
       "      <td>2</td>\n",
       "      <td>9600</td>\n",
       "      <td>181500</td>\n",
       "      <td>1</td>\n",
       "    </tr>\n",
       "    <tr>\n",
       "      <th>2</th>\n",
       "      <td>3</td>\n",
       "      <td>11250</td>\n",
       "      <td>223500</td>\n",
       "      <td>1</td>\n",
       "    </tr>\n",
       "    <tr>\n",
       "      <th>3</th>\n",
       "      <td>4</td>\n",
       "      <td>9550</td>\n",
       "      <td>140000</td>\n",
       "      <td>1</td>\n",
       "    </tr>\n",
       "    <tr>\n",
       "      <th>4</th>\n",
       "      <td>5</td>\n",
       "      <td>14260</td>\n",
       "      <td>250000</td>\n",
       "      <td>1</td>\n",
       "    </tr>\n",
       "    <tr>\n",
       "      <th>...</th>\n",
       "      <td>...</td>\n",
       "      <td>...</td>\n",
       "      <td>...</td>\n",
       "      <td>...</td>\n",
       "    </tr>\n",
       "    <tr>\n",
       "      <th>288</th>\n",
       "      <td>289</td>\n",
       "      <td>9819</td>\n",
       "      <td>122000</td>\n",
       "      <td>1</td>\n",
       "    </tr>\n",
       "    <tr>\n",
       "      <th>289</th>\n",
       "      <td>290</td>\n",
       "      <td>8730</td>\n",
       "      <td>153575</td>\n",
       "      <td>1</td>\n",
       "    </tr>\n",
       "    <tr>\n",
       "      <th>290</th>\n",
       "      <td>291</td>\n",
       "      <td>15611</td>\n",
       "      <td>233230</td>\n",
       "      <td>1</td>\n",
       "    </tr>\n",
       "    <tr>\n",
       "      <th>291</th>\n",
       "      <td>292</td>\n",
       "      <td>5687</td>\n",
       "      <td>135900</td>\n",
       "      <td>1</td>\n",
       "    </tr>\n",
       "    <tr>\n",
       "      <th>292</th>\n",
       "      <td>293</td>\n",
       "      <td>11409</td>\n",
       "      <td>131000</td>\n",
       "      <td>2</td>\n",
       "    </tr>\n",
       "  </tbody>\n",
       "</table>\n",
       "<p>293 rows × 4 columns</p>\n",
       "</div>"
      ],
      "text/plain": [
       "      Id  LotArea  SalePrice  cluster_id\n",
       "0      1     8450     208500           1\n",
       "1      2     9600     181500           1\n",
       "2      3    11250     223500           1\n",
       "3      4     9550     140000           1\n",
       "4      5    14260     250000           1\n",
       "..   ...      ...        ...         ...\n",
       "288  289     9819     122000           1\n",
       "289  290     8730     153575           1\n",
       "290  291    15611     233230           1\n",
       "291  292     5687     135900           1\n",
       "292  293    11409     131000           2\n",
       "\n",
       "[293 rows x 4 columns]"
      ]
     },
     "execution_count": 20,
     "metadata": {},
     "output_type": "execute_result"
    }
   ],
   "source": [
    "df.head(293)"
   ]
  },
  {
   "cell_type": "code",
   "execution_count": 32,
   "id": "22833a9d",
   "metadata": {},
   "outputs": [
    {
     "name": "stdout",
     "output_type": "stream",
     "text": [
      "2    292\n",
      "4    292\n",
      "Name: cluster_id, dtype: int64\n"
     ]
    }
   ],
   "source": [
    "l = []\n",
    "for i in range(len(df)):\n",
    "    if df['cluster_id'].iloc[i]%2 == 0:\n",
    "        l.append(i)\n",
    "cluster_sample = df.iloc[l]\n",
    "print(cluster_sample['cluster_id'].value_counts())"
   ]
  },
  {
   "cell_type": "markdown",
   "id": "d6c24dc5",
   "metadata": {},
   "source": [
    "# stratified random sample"
   ]
  },
  {
   "cell_type": "code",
   "execution_count": 33,
   "id": "450ad2dd",
   "metadata": {},
   "outputs": [
    {
     "name": "stdout",
     "output_type": "stream",
     "text": [
      "   Id  LotArea  SalePrice  cluster_id  strata\n",
      "0   1     8450     208500           1       1\n",
      "1   2     9600     181500           1       1\n",
      "2   3    11250     223500           1       1\n",
      "3   4     9550     140000           1       1\n",
      "4   5    14260     250000           1       1\n",
      "(1460, 5)\n"
     ]
    }
   ],
   "source": [
    "df['strata'] = np.repeat([1,2], len(df)/2)\n",
    "p = []\n",
    "for i in range(len(df)):\n",
    "    p.append(i)\n",
    "str_sample = df.iloc[p]\n",
    "print(str_sample.head())\n",
    "print(str_sample.shape)"
   ]
  },
  {
   "cell_type": "code",
   "execution_count": 38,
   "id": "698ac397",
   "metadata": {},
   "outputs": [
    {
     "name": "stdout",
     "output_type": "stream",
     "text": [
      "        Id  LotArea  SalePrice  cluster_id  strata\n",
      "676    677     9600      87000           3       1\n",
      "562    563    13907     108000           2       1\n",
      "953    954    11075     172000           4       2\n",
      "1191  1192     2645     174000           5       2\n",
      "1309  1310     7153     179200           5       2\n",
      "444    445     8750     210000           2       1\n",
      "928    929    11838     236500           4       2\n",
      "245    246    10400     241500           1       1\n"
     ]
    }
   ],
   "source": [
    "from sklearn.model_selection import StratifiedShuffleSplit as sss\n",
    "# set the split criteria\n",
    "\n",
    "split = sss(n_splits = 3, test_size = 8)\n",
    "\n",
    "\n",
    "# perform data frame split\n",
    "\n",
    "for x,y in split.split(df, df['strata']):\n",
    "    str_sample = df.iloc[y].sort_values(by = 'SalePrice')\n",
    "print(str_sample)    "
   ]
  },
  {
   "cell_type": "code",
   "execution_count": null,
   "id": "729d1e7a",
   "metadata": {},
   "outputs": [],
   "source": []
  }
 ],
 "metadata": {
  "kernelspec": {
   "display_name": "Python 3 (ipykernel)",
   "language": "python",
   "name": "python3"
  },
  "language_info": {
   "codemirror_mode": {
    "name": "ipython",
    "version": 3
   },
   "file_extension": ".py",
   "mimetype": "text/x-python",
   "name": "python",
   "nbconvert_exporter": "python",
   "pygments_lexer": "ipython3",
   "version": "3.8.8"
  }
 },
 "nbformat": 4,
 "nbformat_minor": 5
}
